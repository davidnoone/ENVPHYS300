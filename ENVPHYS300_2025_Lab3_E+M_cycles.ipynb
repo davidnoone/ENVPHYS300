{
  "nbformat": 4,
  "nbformat_minor": 0,
  "metadata": {
    "colab": {
      "private_outputs": true,
      "provenance": [],
      "authorship_tag": "ABX9TyMNBy+3cGF9a2OjmNStlN05",
      "include_colab_link": true
    },
    "kernelspec": {
      "name": "python3",
      "display_name": "Python 3"
    },
    "language_info": {
      "name": "python"
    }
  },
  "cells": [
    {
      "cell_type": "markdown",
      "metadata": {
        "id": "view-in-github",
        "colab_type": "text"
      },
      "source": [
        "<a href=\"https://colab.research.google.com/github/davidnoone/ENVPHYS300/blob/main/ENVPHYS300_2025_Lab3_E%2BM_cycles.ipynb\" target=\"_parent\"><img src=\"https://colab.research.google.com/assets/colab-badge.svg\" alt=\"Open In Colab\"/></a>"
      ]
    },
    {
      "cell_type": "markdown",
      "source": [
        "#ENVPHUS 300 Lab3: Energy and Momentum cycles\n",
        "## The atmospheric general circulation\n",
        "\n",
        "\n",
        "The general circulation of the atmosphere is the description of the average patterns which links wind and temperature distributions and provide energy transport from the tropics to higher latitudes. It captures the way in which the atmosphere responses to the energy imbalance while also conserving mass and momentum.\n",
        "Here we develop an analysis of the energy and momentum budgets and assess the role of atmospheric waves in the general circulation.\n",
        "\n",
        "\n",
        "We will use data from the NCEP/DoE Reanalysis project to analyze the atmospheric transports. The archive of data can be found here.\n",
        "https://psl.noaa.gov/data/gridded/data.ncep.reanalysis2.html\n",
        "\n",
        "\n",
        "The python tasks contained here are associated with taking different types of averages, performing a decomposition of the atmospheric flow, and associating the resulting diagnostics with the global energy and momentum balance."
      ],
      "metadata": {
        "id": "fASJTLcb-wlS"
      }
    },
    {
      "cell_type": "code",
      "source": [
        "# initalize te environment\n",
        "import warnings\n",
        "warnings.filterwarnings('ignore')\n",
        "\n",
        "import numpy as np\n",
        "import matplotlib.pyplot as plt\n",
        "\n",
        "import datetime\n",
        "\n",
        "try:\n",
        "    import netCDF4 as ncdf\n",
        "except:\n",
        "    print('NetCDF needs to be installed: this will take a few moments')\n",
        "    !pip install netCDF4\n",
        "    import netCDF4 as ncdf\n",
        "\n",
        "import sys\n",
        "import time\n",
        "import urllib.request\n",
        "\n",
        "import xarray as xr\n",
        "\n",
        "def reporthook(count, block_size, total_size):\n",
        "    global start_time\n",
        "    if count == 0:\n",
        "        start_time = time.time()\n",
        "        return\n",
        "    duration = time.time() - start_time\n",
        "    progress_size = int(count * block_size)\n",
        "    speed = int(progress_size / (1024 * duration))\n",
        "    percent = int(count * block_size * 100 / total_size)\n",
        "    sys.stdout.write(\"\\r...%d%%, %d MB, %d KB/s, %d seconds passed\" %\n",
        "                    (percent, progress_size / (1024 * 1024), speed, duration))\n",
        "    sys.stdout.flush()"
      ],
      "metadata": {
        "id": "n_YVzD4eXsEy"
      },
      "execution_count": null,
      "outputs": []
    },
    {
      "cell_type": "markdown",
      "source": [
        "##Part 1: Analysis the 3d circulation of the atmosphere\n",
        "\n",
        "TASK: Obtain monthly mean wind (u and v) and temperature fields from the NCAR/DoE reanalysis.\n",
        "\n",
        "\n",
        "The variables we will use for Part 1 are “air temperature”,  U-wind and V-wind. On pressure levels, and monthly means.  An example of how to obtain monthly mean temperature data is here.\n",
        "https://downloads.psl.noaa.gov/Datasets/ncep.reanalysis2/Monthlies/pressure/air.mon.mean.nc\n",
        "\n",
        "\n",
        "(Notice the main data link aove contains some useful metadata information that might be handy)\n",
        "\n",
        "\n",
        "You will need to find similar files for the monthly means of u and v on pressure levels.\n",
        "\n"
      ],
      "metadata": {
        "id": "ixudc0XbDL5V"
      }
    },
    {
      "cell_type": "code",
      "source": [
        "#\n",
        "# Example to get data\n",
        "#\n",
        "\n",
        "URL_air = 'https://downloads.psl.noaa.gov/Datasets/ncep.reanalysis2/Monthlies/pressure/air.mon.mean.nc'\n",
        "filename_air = 'air_monthly.nc'\n",
        "urllib.request.urlretrieve(URL_air,filename_air,reporthook)\n",
        "\n",
        "#\n",
        "# download u\n",
        "#\n",
        "\n",
        "#\n",
        "# download v\n",
        "#\n",
        "\n"
      ],
      "metadata": {
        "id": "hxW7jepqXIOk"
      },
      "execution_count": null,
      "outputs": []
    },
    {
      "cell_type": "code",
      "source": [
        "# Handy little \"read\" function\n",
        "def read_netcdf_variable(filename,varname):\n",
        "    print('Reading ['+varname+'] from',filename)\n",
        "    with ncdf.Dataset(filename,'r') as ncfile:    # open the file and read the data...\n",
        "        lons  = ncfile.variables['lon'][:]            # read the longitudes\n",
        "        lats  = ncfile.variables['lat'][:]            # read the latitudes\n",
        "        levs  = ncfile.variables['level'][:]            # read the pressure levels\n",
        "        time  = ncfile.variables['time'][:]           # read the time axis\n",
        "\n",
        "        data  = ncfile.variables[varname][:,:,:]        # read the 500 hPa height\n",
        "\n",
        "    return data, lons,lats,levs,time\n"
      ],
      "metadata": {
        "id": "tY9782AcDvwk"
      },
      "execution_count": null,
      "outputs": []
    },
    {
      "cell_type": "code",
      "source": [
        "# Example of how to show contents of file: using the \"xarray\" library\n",
        "#with xr.open_dataset(filename_air) as ds:\n",
        "#    print(ds)  # this will give you a preview of your data\n",
        "\n",
        "#\n",
        "# Example of how to read the data\n",
        "#\n",
        "temp, lons,lats,levs,time = read_netcdf_variable(filename,'air')\n",
        "nlon = len(lons)\n",
        "nlat = len(lats)\n",
        "nlev = len(levs)\n",
        "ntime = len(time)\n",
        "print('NLON:',nlon,' NLAT:',nlat, 'NLEV:',nlev,' NTIME:',ntime)"
      ],
      "metadata": {
        "id": "cByxQ1tgD-h2"
      },
      "execution_count": null,
      "outputs": []
    },
    {
      "cell_type": "markdown",
      "source": [
        "### TASK: Seasonal and zonal means\n",
        "\n",
        "Compute the season means for the zonal mean u, v and T. Plot these (you should end up with 6 figures).\n",
        "\n",
        "Plot you results for a zonal mean cross section using a log pressure scale on the vertical axis, and latitude on the horizontal axis. (Hint: you may wish to use the log pressure coordinate code from Lab 2 to help, and recall the plt.contour and plt.contourf functions from Lab 1). Use a color scale and be sure to note the units and give axis labels.\n",
        "\n",
        "Recommendation: create a function to make a nice latitude vs pressure plot. You will be using this a lot! You might consider using \"subplots\" for DJF and JJA in a left and right configuration. All your results below will use a similar layout.\n",
        "\n"
      ],
      "metadata": {
        "id": "NlGdD9X8FKKL"
      }
    },
    {
      "cell_type": "code",
      "source": [
        "#\n",
        "# Your code and plots here\n",
        "#"
      ],
      "metadata": {
        "id": "t2a984lLdjVB"
      },
      "execution_count": null,
      "outputs": []
    },
    {
      "cell_type": "markdown",
      "source": [
        "### Overturning circulation\n",
        "\n",
        "A mass flux stream function, $\\psi$ in the pressure vs latitude plane such that\n",
        "\n",
        "$$\n",
        "v = \\frac{g}{2 \\pi cos(\\phi)} \\frac{\\psi}{\\partial phi}\n",
        "$$\n",
        "\n",
        "And similarly for vertical velocity. (Recall the definition of \"streamfunction\")\n",
        "\n",
        "TASK: Using the data for v, derive the streamfunction by integrating from 1000 hP to the top of the atmosphere. Plot your stream function in the pressure-latitude plane for each season.\n",
        "\n",
        "\n"
      ],
      "metadata": {
        "id": "joLudxHrFpSK"
      }
    },
    {
      "cell_type": "code",
      "source": [
        "#\n",
        "# Your code here\n",
        "#"
      ],
      "metadata": {
        "id": "guh1GK_QGLUy"
      },
      "execution_count": null,
      "outputs": []
    },
    {
      "cell_type": "markdown",
      "source": [
        "Questions:\n",
        "\n",
        "a) Give an intuitive explanation for what the streamfunction depicts. How is the atmospheric flow related to contours of the streamfunction?\n",
        "\n",
        "b) What dominant “text book” features of the circulation can you identify?\n",
        "Describe how these differ by season, and by hemisphere."
      ],
      "metadata": {
        "id": "Uk-nXODIGLqJ"
      }
    },
    {
      "cell_type": "markdown",
      "source": [
        "## Circulation near geostrophic\n",
        "\n",
        "We might expect that for an atmosphere to be near geostrophic. Using the thermal wind balance, compute the zonal geostrophic velocity ($u_{g}$)based only on the temperature field. Plot your geostrophic zonal wind as a cross section.  \n",
        "\n",
        "Recall the thermal wind balance emerges from geostrophic and hydrostatic balance and can be written as:\n",
        "\n",
        "$$\n",
        "\\frac{\\partial u_g}{\\partial ln p} = \\frac{R}{f} \\left( \\frac{\\partial T}{\\partial y} \\right)_p\n",
        "$$\n",
        "\n",
        "\n",
        "TASK: Create a “difference” plot $u - u_{g}$ to high light imperfection in the geostrophic assumption. (You may wish to consider you difference as a percentage of the actual velocity rather than an value with units of m/s.)\n",
        "\n",
        "Recall Coriolis parameter can be written $f = 2 \\Omega sin (\\phi)$\n",
        "Since we know that f->0 at the equator, this relationship will fail!\n",
        "As such, exclude data between 10 S and 10 N in your analysis.\n"
      ],
      "metadata": {
        "id": "tumjuQ09GPbZ"
      }
    },
    {
      "cell_type": "code",
      "source": [
        "#\n",
        "# Your code here\n",
        "#"
      ],
      "metadata": {
        "id": "yvVXp9eIG2Az"
      },
      "execution_count": null,
      "outputs": []
    },
    {
      "cell_type": "markdown",
      "source": [
        "Questions:\n",
        "\n",
        "a) Where (latitudes/altitudes) does the geostrophic assumption appear to be most robust.\n",
        "\n",
        "b) Explain how this result allows satellite measurements of temperature to place constrains on the wind fields.\n",
        "\n"
      ],
      "metadata": {
        "id": "pFsT1D8LG3j5"
      }
    },
    {
      "cell_type": "markdown",
      "source": [
        "##PART 2: Zonal energy and momentum balance (separate python sheet for next week)\n",
        "\n",
        "\n",
        "Obtain data for the year 2024 for v, T and q (water vapor mixing ratio). We want to use data at 6 hourly intervals. This will be approximately 1 GB of data! It will take a while do download (take care, no need to rerun those python cells!)\n",
        "\n",
        "Our goals is to determine the role of atmospheric motions in the movement of energy and momentum. We will consider the poleward transport of energy and momentum by the zonal mean flow and by eddies.\n",
        "The poleward flux can be written as vT for temperature and vq for water vapor.  \n",
        "\n",
        "TASK: For each season (DJF and JJA) compute the zonal mean of the meridional (northward) flux of easterly momentum, temperature and latent heat. (i.e., the quantities uv, vT and vq).\n",
        "On your figures, be sure to state the units.\n",
        "\n",
        "\n",
        "We will deconstruct the total flow in to a zonal mean and a deviation. Consider temperature as:\n",
        "\n",
        "$$\n",
        "T = \\bar{T} + T'\n",
        "$$\n",
        "\n",
        "with the bar denoting the zonal mean, and the prime the deviation from that.\n",
        "\n",
        "\n",
        "So the poleward flux of temperature can be decompose as $\\bar{vT} = \\bar{v} \\bar{T}  + \\bar{v'T'}$. The first term is named the zonal mean transport, and the second is the eddy transport.\n",
        "\n",
        "TASK: Using data from 2024, compute the zonal means at each pressure level, and generate the deviations u', v' and T' (at each longitude), then compute the zonal mean of the eddy and mean transport of heat, moisture and zonal momentum. This should give you 9 figures!\n",
        "\n"
      ],
      "metadata": {
        "id": "YUzT9iA7G8DZ"
      }
    },
    {
      "cell_type": "code",
      "source": [
        "#\n",
        "# Example file name\n",
        "#"
      ],
      "metadata": {
        "id": "QWMKK2JdHgg4"
      },
      "execution_count": null,
      "outputs": []
    },
    {
      "cell_type": "code",
      "source": [
        "#\n",
        "# You code here\n",
        "#\n"
      ],
      "metadata": {
        "id": "0nCU0oVuHiOA"
      },
      "execution_count": null,
      "outputs": []
    }
  ]
}