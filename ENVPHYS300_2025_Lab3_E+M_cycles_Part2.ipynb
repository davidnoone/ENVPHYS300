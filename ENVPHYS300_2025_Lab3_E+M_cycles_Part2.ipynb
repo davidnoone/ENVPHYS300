{
  "nbformat": 4,
  "nbformat_minor": 0,
  "metadata": {
    "colab": {
      "private_outputs": true,
      "provenance": [],
      "authorship_tag": "ABX9TyPH1K4qHDLBRt6G/3zspJ8I",
      "include_colab_link": true
    },
    "kernelspec": {
      "name": "python3",
      "display_name": "Python 3"
    },
    "language_info": {
      "name": "python"
    }
  },
  "cells": [
    {
      "cell_type": "markdown",
      "metadata": {
        "id": "view-in-github",
        "colab_type": "text"
      },
      "source": [
        "<a href=\"https://colab.research.google.com/github/davidnoone/ENVPHYS300/blob/main/ENVPHYS300_2025_Lab3_E%2BM_cycles_Part2.ipynb\" target=\"_parent\"><img src=\"https://colab.research.google.com/assets/colab-badge.svg\" alt=\"Open In Colab\"/></a>"
      ]
    },
    {
      "cell_type": "markdown",
      "source": [
        "#ENVPHYS 300 Lab3: Energy and Momentum cycles\n",
        "\n",
        "\n",
        "## The atmospheric general circulation: Part 2\n",
        "\n",
        "\n",
        "The general circulation of the atmosphere is the description of the average patterns which links wind and temperature distributions and provide energy transport from the tropics to higher latitudes. It captures the way in which the atmosphere responses to the energy imbalance while also conserving mass and momentum.\n",
        "Here we develop an analysis of the energy and momentum budgets and assess the role of atmospheric waves in the general circulation.\n",
        "\n",
        "\n",
        "We will use data from the NCEP/DoE Reanalysis project to analyze the atmospheric transports. The archive of data can be found here.\n",
        "https://psl.noaa.gov/data/gridded/data.ncep.reanalysis2.html\n",
        "\n",
        "\n",
        "The python tasks contained here are associated with taking different types of averages, performing a decomposition of the atmospheric flow, and associating the resulting diagnostics with the global energy and momentum balance."
      ],
      "metadata": {
        "id": "fASJTLcb-wlS"
      }
    },
    {
      "cell_type": "code",
      "source": [
        "# initalize te environment\n",
        "import warnings\n",
        "warnings.filterwarnings('ignore')\n",
        "\n",
        "import numpy as np\n",
        "import matplotlib.pyplot as plt\n",
        "\n",
        "import datetime\n",
        "\n",
        "try:\n",
        "    import netCDF4 as ncdf\n",
        "except:\n",
        "    print('NetCDF needs to be installed: this will take a few moments')\n",
        "    !pip install netCDF4\n",
        "    import netCDF4 as ncdf\n",
        "\n",
        "import sys\n",
        "import time as time_lib\n",
        "import urllib.request\n",
        "\n",
        "import xarray as xr\n",
        "\n",
        "# Some constants\n",
        "gravity = 9.81          # acceleration due to gravity,  m/s2\n",
        "cpair = 1005            # specific heat capacity of dry air, J/K/kg\n",
        "latvap = 2.26e6         # latent heat of vaporization, J/kg\n",
        "epsilon = 0.622         # ratio of molecular weights for water vapor\n",
        "Tzero = 273.16          # temperature K of 0C.\n",
        "\n",
        "\n",
        "def reporthook(count, block_size, total_size):\n",
        "    global start_time\n",
        "    if count == 0:\n",
        "        start_time = time_lib.time()\n",
        "        return\n",
        "    duration = time_lib.time() - start_time\n",
        "    progress_size = int(count * block_size)\n",
        "    speed = int(progress_size / (1024 * duration))\n",
        "    percent = int(count * block_size * 100 / total_size)\n",
        "    sys.stdout.write(\"\\r...%d%%, %d MB, %d KB/s, %d seconds passed\" %\n",
        "                    (percent, progress_size / (1024 * 1024), speed, duration))\n",
        "    sys.stdout.flush()"
      ],
      "metadata": {
        "id": "n_YVzD4eXsEy"
      },
      "execution_count": null,
      "outputs": []
    },
    {
      "cell_type": "markdown",
      "source": [
        "##PART 2: Zonal energy and momentum balance (separate python sheet for next week)\n",
        "\n",
        "\n",
        "Obtain data for the year 2024 for v, and T . We want to use data at 6 hourly intervals. This will be approximately 1 GB of data! It will take a while do download (take care, no need to rerun those python cells!)\n",
        "\n",
        "Our goals is to determine the role of atmospheric motions in the movement of energy and momentum. We will consider the poleward transport of energy and momentum by the zonal mean flow and by eddies.\n",
        "\n",
        "The poleward flux can be written as $vT$ for temperature and $uv$ for momentum. Notice the units.\n",
        "\n",
        "\n",
        "We will deconstruct the total flow in to a zonal mean and a deviation. Consider temperature as:\n",
        "\n",
        "$$\n",
        "T = \\bar{T} + T'\n",
        "$$\n",
        "\n",
        "with the bar denoting the zonal mean, and the prime the deviation from that.\n",
        "\n",
        "\n",
        "Therefore the poleward flux of temperature can be decompose as $\\overline{vT} = \\bar{v} \\bar{T}  + \\overline{v'T'}$. The first term is named the zonal mean transport, and the second is the eddy transport. (Note that one could similarly decompose the water vapor mixing ratio, $q$, and the eastward momntum, $u$, or other quantities in this way.)\n",
        "\n",
        "\n",
        "\n"
      ],
      "metadata": {
        "id": "YUzT9iA7G8DZ"
      }
    },
    {
      "cell_type": "markdown",
      "source": [
        "TASK: Using data from 2024, compute the zonal means at each pressure level, and generate the deviations u', v' and T' (at each longitude), then compute the zonal mean of the eddy and mean transport of heat, moisture and zonal momentum.\n",
        "\n",
        "\n",
        "TASK: For each season (DJF and JJA) compute the zonal mean of the meridional (northward) flux of easterly momentum and temperature.\n",
        "This should give you 6 figures for each season.\n",
        "\n",
        "$\\overline{vT}, \\bar{v} \\bar{T},  \\overline{v'T'}$\n",
        "\n",
        "$\\overline{uv}, \\bar{u} \\bar{v},  \\overline{u'v'}$\n",
        "\n",
        "\n",
        "[Hint: Start with just temperature! Once you are happy you can eaily redo it with u and q]\n",
        "\n",
        "[Hint 2: I recommend setting up a plot function that allows you to make a 6 pannel figure: DJF on the left, JJA on the right. Then rows of total, zonal mean and eddy fluxes.]\n",
        "\n",
        "On your figures, be sure to state the units."
      ],
      "metadata": {
        "id": "WeBD1NfsJdNO"
      }
    },
    {
      "cell_type": "code",
      "source": [
        "# Handy little \"read\" function\n",
        "def read_netcdf_variable(filename,varname):\n",
        "    print('Reading ['+varname+'] from',filename)\n",
        "    with ncdf.Dataset(filename,'r') as ncfile:    # open the file and read the data...\n",
        "        lons  = ncfile.variables['lon'][:]            # read the longitudes\n",
        "        lats  = ncfile.variables['lat'][:]            # read the latitudes\n",
        "        levs  = ncfile.variables['level'][:]            # read the pressure levels\n",
        "        time  = ncfile.variables['time'][:]           # read the time axis\n",
        "\n",
        "        data  = ncfile.variables[varname][:,:,:]        # read the 500 hPa height\n",
        "\n",
        "    return data, lons,lats,levs,time"
      ],
      "metadata": {
        "id": "uxWh3YhSEPJG"
      },
      "execution_count": null,
      "outputs": []
    },
    {
      "cell_type": "code",
      "source": [
        "# Example: get the data\n",
        "\n",
        "#Temperature\n",
        "URL_air = \"https://downloads.psl.noaa.gov/Datasets/ncep.reanalysis2/pressure/air.2024.nc\"\n",
        "filename_air = 'air_6hourly.nc'\n",
        "\n",
        "# Wind\n",
        "URL_vwnd = \"https://downloads.psl.noaa.gov/Datasets/ncep.reanalysis2/pressure/vwnd.2024.nc\"\n",
        "filename_vwnd = 'vwnd_6hourly.nc'\n",
        "\n",
        "# THIS WILL TAKE A WHILE TO DOWN LOAD - run this ONCE\n",
        "done_download = False\n",
        "if (not done_download):\n",
        "    #urllib.request.urlretrieve(URL_air,filename_air,reporthook)\n",
        "    #urllib.request.urlretrieve(URL_vwnd,filename_vwnd,reporthook)\n",
        "\n",
        "    done_download = True\n",
        "else:\n",
        "    print('Files already downloaded')\n"
      ],
      "metadata": {
        "id": "QWMKK2JdHgg4"
      },
      "execution_count": null,
      "outputs": []
    },
    {
      "cell_type": "code",
      "source": [
        "#vwnd, lons,lats,levs,time = read_netcdf_variable(filename_vwnd,'vwnd')\n",
        "temp, lons,lats,levs,time = read_netcdf_variable(filename_air,'air')\n",
        "\n",
        "\n",
        "nlon = len(lons); nlat = len(lats); nlev = len(levs); ntime = len(time)\n",
        "print('NLON:',nlon,' NLAT:',nlat, 'NLEV:',nlev,' NTIME:',ntime)\n",
        "\n",
        "# mixing ratio conversion\n",
        "\n",
        "print('Success getting all the data arrays thath you need.')"
      ],
      "metadata": {
        "id": "ZBBRxZ7WQmZV"
      },
      "execution_count": null,
      "outputs": []
    },
    {
      "cell_type": "code",
      "source": [
        "#\n",
        "# Sample code to select the seasons\n",
        "#\n",
        "temp_JJA = temp[152*4:244*4-1,:,:,:]          # June - August\n",
        "temp_DJF = np.concatenate((temp[0:60*4-1, :, :, :], temp[335*4:365*4-1, :, :, :]), axis=0)\n",
        "\n",
        "print('Seasonal arrays:',np.shape(temp_JJA),np.shape(temp_DJF),)\n"
      ],
      "metadata": {
        "id": "TxWNIgdwJFHH"
      },
      "execution_count": null,
      "outputs": []
    },
    {
      "cell_type": "code",
      "source": [
        "#\n",
        "# Some helper functions\n",
        "#\n",
        "def calculate_zonal_mean(data):\n",
        "    \"\"\" Function to compute the zonal mean, time mean: of data[ntime,nlev,nlat,nlon] \"\"\"\n",
        "    time_mean = np.mean(data, axis=0)\n",
        "    zonal_mean = np.mean(time_mean, axis=-1)\n",
        "    return zonal_mean\n",
        "\n",
        "def remove_zonal_mean(data,zonal_mean):\n",
        "    \"\"\"Removes zonal mean to compute anomalies: e.g., T' = T - T_mean \"\"\"\n",
        "    data -= zonal_mean[np.newaxis, :, :, np.newaxis]\n",
        "    return data         # Notice this is done \"in place\" (overwrites original data)\n",
        "\n",
        "def get_pdel(levels_hPa):\n",
        "    \"\"\" Computes pressure thickness (in Pa) based on levels, in hPa\"\"\"\n",
        "    half_levels = (levels_hPa[:-1] + levels_hPa[1:]) / 2\n",
        "\n",
        "    plo = 1.5*levels_hPa[0] - 0.5*levels_hPa[1]\n",
        "    half_levels = np.insert(half_levels, 0, plo)                # \"ground\"\n",
        "    half_levels = np.append(half_levels, 0.5*levels_hPa[-1])   # TOA\n",
        "    pdel = (half_levels[:-1]-half_levels[1:])*100.            # Convert hPa-> Pa\n",
        "    #print(\"Pdel\",pdel)      # check!\n",
        "    return pdel\n",
        "\n",
        "def calculate_vertical_integral(zonal_data,pdel):\n",
        "    \"\"\" Computes the vertical integral sum(zonal_data dp_k)/gravity\"\"\"\n",
        "    gravity = 9.81\n",
        "    (nz,ny) = np.shape(zonal_data)\n",
        "    vertical_integral = np.zeros(ny)\n",
        "    for k in range(nz):\n",
        "        vertical_integral[:] = vertical_integral[:] + np.squeeze(zonal_data[k,:]) * pdel[k]\n",
        "    vertical_integral = vertical_integral/gravity\n",
        "    return vertical_integral\n",
        "\n",
        "\n"
      ],
      "metadata": {
        "id": "OiOrTwwLMLtV"
      },
      "execution_count": null,
      "outputs": []
    },
    {
      "cell_type": "code",
      "source": [
        "#\n",
        "# Examples just for temperature\n",
        "#\n",
        "T_zonal = calculate_zonal_mean(temp)\n",
        "T_prime = remove_zonal_mean(temp, T_zonal)\n",
        "\n",
        "print('Dimensions for zonal mean T: ',T_zonal.shape)\n",
        "print('Dimensions for T deviations:',T_prime.shape)\n",
        "\n",
        "#\n",
        "# Compute zonal mean heat flux and zonal mean of eddy heat flux\n",
        "#\n",
        "#vT_zonal = v_zonal * T_zonal\n",
        "#vT_eddy = calculate_zonal_mean(v_prime * T_prime)         # e.g., zonal mean of (v'T')\n",
        "#vT_total = vT_zonal + vT_eddy\n",
        "#print('Dimensions for zonal mean heat flux: vT_zonal,',vT_zonal.shape)\n",
        "#print('Dimensions for eddy heat flux are  : vT_eddy,',vT_eddy.shape)\n",
        "\n",
        "#\n",
        "# [Your code here]\n",
        "#\n",
        "\n",
        "\n",
        "\n"
      ],
      "metadata": {
        "id": "0nCU0oVuHiOA"
      },
      "execution_count": null,
      "outputs": []
    },
    {
      "cell_type": "code",
      "source": [
        "#\n",
        "# Example 6 panel figure\n",
        "#\n",
        "def six_panel_plot(lats,levs,six_data,six_labs):\n",
        "    tickvals = [1000, 700, 500, 200, 100, 50]      # tick marks in hPa\n",
        "    ticklabels = [str(t) for t in tickvals]                 # Convert to string for labels\n",
        "\n",
        "    fig, axes = plt.subplots(nrows=3, ncols=2, figsize=(8, 11))\n",
        "    axes = axes.flatten()\n",
        "\n",
        "    for i, ax in enumerate(axes):\n",
        "        one_data = six_data[i]\n",
        "        ax.contourf(lats,levs,one_data)  # Example sine waves\n",
        "        ax.set_yscale('log')\n",
        "        ax.set_ylim(1000, 50)\n",
        "        ax.set_yticks(tickvals)\n",
        "        ax.set_yticklabels(ticklabels)\n",
        "        ax.set_ylabel(f\"Pressure (hPa)\")\n",
        "        ax.set_xlabel(f\"Latitude (degrees)\")\n",
        "        ax.set_title(six_labs[i])\n",
        "\n",
        "    plt.tight_layout()\n",
        "    fig.show()\n",
        "    return\n",
        "\n",
        "# Make a list of data to plot: stack up titles and data arrays in a list\n",
        "six_labs = ['DJF vT_total','JJA vt_total', \\\n",
        "            'DJF vT_zonal','JJA vt_zonal', \\\n",
        "            'DJF vT_eddy' ,'JJA vt_eddy' ]\n",
        "six_data = [T_zonal, T_zonal, T_zonal, T_zonal, T_zonal, T_zonal]\n",
        "\n",
        "# Function call to make the plot\n",
        "#six_panel_plot(lats,levs,six_data,six_labs)"
      ],
      "metadata": {
        "id": "eXZhLyqtgRvl"
      },
      "execution_count": null,
      "outputs": []
    },
    {
      "cell_type": "markdown",
      "source": [
        "##Zonal mean momentum\n",
        "\n",
        "Earlier we argued that the atmosphere must be near thermal wind balance. For a balance there must be two (at least!) equal and opposite acceleration.\n",
        "\n",
        "\n",
        "TASK: Generate a plot showing the easterly acceleration due to the Coriolis force.\n",
        "\n",
        "TASK: Generate a plot showing the easterly acceleration due to the transport of momentum by eddies (i.e. the divergence of $\\overline{u'v'}$). (Hint: be cautions of the cosine needed for the divergence!)\n",
        "\n"
      ],
      "metadata": {
        "id": "OquLriiiY6Mt"
      }
    },
    {
      "cell_type": "code",
      "source": [
        "#\n",
        "# Your code here\n",
        "#"
      ],
      "metadata": {
        "id": "0YerIppGcEAZ"
      },
      "execution_count": null,
      "outputs": []
    },
    {
      "cell_type": "markdown",
      "source": [
        "Questions\n",
        "\n",
        "a) Comment on similarities and differences of these. Are there locations where they are almost equal?\n",
        "(you may wish to plot a difference chart to help identify the balances)\n",
        "\n"
      ],
      "metadata": {
        "id": "W_J2LoCbcEZk"
      }
    },
    {
      "cell_type": "markdown",
      "source": [
        "[Your answers]"
      ],
      "metadata": {
        "id": "WbxR7iYSc-rv"
      }
    },
    {
      "cell_type": "markdown",
      "source": [
        "b) Comment on locations where they appear not to be balanced.\n",
        "\n",
        "\n"
      ],
      "metadata": {
        "id": "g6BK3pyv0FpH"
      }
    },
    {
      "cell_type": "markdown",
      "source": [
        "[your answer here]"
      ],
      "metadata": {
        "id": "MR1W_Kmr0FiA"
      }
    },
    {
      "cell_type": "markdown",
      "source": [
        "c) Considering the momentum balance above, explain the sources and sinks of momentum! Where does the atmospheric momentum come from? Where does it go? What process (processes) are responsible for these sources and sinks."
      ],
      "metadata": {
        "id": "hhI_wNdW0FcW"
      }
    },
    {
      "cell_type": "markdown",
      "source": [
        "[your answer here]"
      ],
      "metadata": {
        "id": "pTHs1QuU0FUw"
      }
    },
    {
      "cell_type": "markdown",
      "source": [
        "## Global energy transport and balance\n",
        "\n",
        "Starting from your zonal mean cross sections, compute the vertical integral to show the total atmospheric transport of sensible heat.\n",
        "\n",
        "It will be useful to consider the zonal, and vertical and time average of the thermodynamic equation:\n",
        "\n",
        "\n",
        "$$\n",
        "c_p \\frac{\\partial T}{\\partial t} =\n",
        "   - c_p \\frac{\\partial (\\bar{v}\\bar{T})}{\\partial y} +\n",
        "   - c_p \\frac{\\partial (\\overline{v'T'})}{\\partial y} +\n",
        "   \\alpha \\omega + Q\n",
        "$$\n",
        "\n",
        "Where $c_p = 1005 J/K/kg $is the specific heat capacity of dry air.\n",
        "\n",
        "\n",
        "TASK: Calculate the heating rates associated with the total transport of heat in the atmospheric column. This can be derived as the divergence of the flux of sensible heat.\n",
        "\n",
        "You should produce a line plot in units of W/m2 with 3 lines for each of the sensible due to the: 1) zonal mean, 2) eddy and 3) total.\n",
        "\n",
        "\n",
        "\n",
        "\n"
      ],
      "metadata": {
        "id": "vUvPND5icOpR"
      }
    },
    {
      "cell_type": "code",
      "source": [
        "\n",
        "## Example vertical integral\n",
        "#pdel = get_pdel(levs)\n",
        "#vT_zonal_int = calculate_vertical_integral(vT_zonal,pdel)\n",
        "#print('vT vertical integral:',np.shape(vT_zonal_int))        # should be 1d, by latitude\n",
        "\n",
        "\n",
        "#\n",
        "# your code here\n",
        "#\n",
        "\n",
        "\n",
        "#\n",
        "# You line plot code here\n",
        "#\n"
      ],
      "metadata": {
        "id": "shcJBZdycaav"
      },
      "execution_count": null,
      "outputs": []
    },
    {
      "cell_type": "markdown",
      "source": [
        "Questions:\n",
        "\n",
        "In the above, you’ve described the cycle of both energy and momentum in the atmosphere.\n",
        "\n",
        "a) Describe the relative role of the zonal mean transport and the eddy transport on the sensible heat transport. Describe which is larger. Are all the components of energy transports always poleward?\n",
        "\n",
        "\n",
        "\n",
        "\n",
        "\n"
      ],
      "metadata": {
        "id": "D7cQWcW1ca2-"
      }
    },
    {
      "cell_type": "markdown",
      "source": [
        "[Your answers]"
      ],
      "metadata": {
        "id": "ULrbuz6Pc5zp"
      }
    },
    {
      "cell_type": "markdown",
      "source": [
        "b) Reflecting on global energy balance, explain how your result for the total energy transport would be related to the top of the atmosphere radiative balance (i.e., incoming solar minus outgoing longwave radiation)."
      ],
      "metadata": {
        "id": "yBxz77jQzuCY"
      }
    },
    {
      "cell_type": "markdown",
      "source": [
        "[your answer here]"
      ],
      "metadata": {
        "id": "Z4qpcXfKz2GB"
      }
    },
    {
      "cell_type": "markdown",
      "source": [
        "c) What, if anything, is missing in your total accounting for energy transport."
      ],
      "metadata": {
        "id": "TInDj6O6zt8H"
      }
    },
    {
      "cell_type": "markdown",
      "source": [
        "[your anser here]"
      ],
      "metadata": {
        "id": "oplECthxztto"
      }
    }
  ]
}