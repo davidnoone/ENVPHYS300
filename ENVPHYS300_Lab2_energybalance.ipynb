{
  "nbformat": 4,
  "nbformat_minor": 0,
  "metadata": {
    "colab": {
      "private_outputs": true,
      "provenance": [],
      "include_colab_link": true
    },
    "kernelspec": {
      "name": "python3",
      "display_name": "Python 3"
    },
    "language_info": {
      "name": "python"
    }
  },
  "cells": [
    {
      "cell_type": "markdown",
      "metadata": {
        "id": "view-in-github",
        "colab_type": "text"
      },
      "source": [
        "<a href=\"https://colab.research.google.com/github/davidnoone/ENVPHYS300/blob/main/ENVPHYS300_Lab2_energybalance.ipynb\" target=\"_parent\"><img src=\"https://colab.research.google.com/assets/colab-badge.svg\" alt=\"Open In Colab\"/></a>"
      ]
    },
    {
      "cell_type": "markdown",
      "source": [
        "#ENVPHYS 300: Lab 2 - Energy balance\n",
        "\n",
        "\n",
        "\n",
        "We are interested in the global eenergy balance, and the way in which Earth's surface temperature depends on atmospheric composition and surface properties.\n",
        "\n",
        "The atmosphere is mostly transparent for solar radiation, and mostly opaque for infrared radiation.\n"
      ],
      "metadata": {
        "id": "Zb4Q9qdgnsAE"
      }
    },
    {
      "cell_type": "markdown",
      "source": [
        "Radiataive balance and convective equilibrium.\n",
        "\n",
        "In this lab, we will examine observations of the Earth's energy balance and compare this to a model calculation.\n",
        "The model (see part 2), model combines calculations of radiative transfer and for atmosphere comvection which derives from the NCAR Climate model (\"CESM\"). The radiative transfer code is called RRTM, and details can be found elsewhere.\n",
        "\n",
        "\n",
        "\n",
        "#PART 1\n",
        "\n",
        "Observations of energy balance.\n",
        "\n",
        "Objective: Develop an energy budget for the surface atmosphere using data from a global reanalysis project.\n",
        "\n",
        "\n",
        "Tasks:\n",
        "* Obtan netcdf data files for atmospheric conditions and surface conditions for each month spanning from 1979 to 2024.\n",
        "\n",
        "* Focusing on the surface level data, we wish to examine the seasonal and yearly variabilit in surface energy balance.\n",
        "\n",
        "* In part 2, we will compare this with a climate model.\n",
        "\n",
        "\n",
        "\n",
        "\n"
      ],
      "metadata": {
        "id": "_lcWKMxUrE-R"
      }
    },
    {
      "cell_type": "code",
      "source": [
        "\n",
        "import warnings\n",
        "warnings.filterwarnings('ignore')\n",
        "\n",
        "import numpy as np\n",
        "import matplotlib.pyplot as plt\n",
        "\n",
        "import datetime\n",
        "\n",
        "\n",
        "try:\n",
        "    import netCDF4 as ncdf\n",
        "except:\n",
        "    print('NetCDF needs to be installed: this will take a few moments')\n",
        "    !pip install netCDF4\n",
        "    import netCDF4 as ncdf\n",
        "\n",
        "try:\n",
        "  import cartopy.crs as ccrs\n",
        "except:\n",
        "  print('cartopy needs to be installed: this will take a few moments')\n",
        "  !pip install cartopy\n",
        "  !pip uninstall shapely -y\n",
        "  !pip install shapely --no-binary shapely\n",
        "  import cartopy.crs as ccrs\n"
      ],
      "metadata": {
        "id": "tLQqUNkd3vcp"
      },
      "execution_count": null,
      "outputs": []
    },
    {
      "cell_type": "markdown",
      "source": [
        "Data from the NCAR/NCEP reanalysis.\n",
        "\n",
        "\n",
        "We will use data from the a large synthesis activity called the NCAR/NCEP reanalysis. A wide selection of data can be obtained from here:\n",
        "\n",
        "https://psl.noaa.gov/data/gridded/data.ncep.reanalysis2.html\n",
        "\n",
        "\n",
        "We will focus on surface energy balance and top of the atmosphere energy balance.\n",
        "\n",
        "\n",
        "\n",
        "\n"
      ],
      "metadata": {
        "id": "oxhn0LAp4GkG"
      }
    },
    {
      "cell_type": "code",
      "execution_count": null,
      "metadata": {
        "collapsed": true,
        "id": "Mpl3EZgTnnna"
      },
      "outputs": [],
      "source": [
        "import urllib.request\n",
        "\n",
        "# Surface (sfc) and top of the atmosphere ('ntat') energy balance variables\n",
        "var_list = ['lhtfl.sfc','shtfl.sfc','dlwrf.sfc','dswrf.sfc','ulwrf.sfc','uswrf.sfc']\n",
        "\n",
        "url_base = 'https://downloads.psl.noaa.gov/Datasets/ncep.reanalysis2/Monthlies/gaussian_grid/'\n",
        "for var in var_list:\n",
        "    filename = var+'.mon.mean.nc'\n",
        "    print('GET: ',url_base+filename)\n",
        "    urllib.request.urlretrieve(url_base+filename,filename)\n",
        "\n",
        "\n",
        "\n"
      ]
    },
    {
      "cell_type": "code",
      "source": [
        "# Example reading data from a netcdg file\n",
        "\n",
        "with ncdf.Dataset('dswrf.sfc.mon.mean.nc','r') as ncfile:    # open the file and read the data...\n",
        "  lons  = ncfile.variables['lon'][:]            # read the longitudes\n",
        "  lats  = ncfile.variables['lat'][:]            # read the latitudes\n",
        "  time  = ncfile.variables['time'][:]           # read the time axis\n",
        "  data  = ncfile.variables['dswrf'][:,:,:]      # read the 500 hPa height\n",
        "\n",
        "  print('Time units:',ncfile.variables['time'].units)\n"
      ],
      "metadata": {
        "id": "c6AsgK6B9WVS"
      },
      "execution_count": null,
      "outputs": []
    },
    {
      "cell_type": "code",
      "source": [
        "\n",
        "print(\"Shape of lats:\",np.shape(lats))\n",
        "print(\"Shape of lons:\",np.shape(lons))\n",
        "print(\"Shape of time:\",np.shape(time))\n",
        "print(\"Shape of data:\",np.shape(data))\n",
        "\n",
        "print('Latitudes:',lats)\n",
        "print('Longitudes:',lons)"
      ],
      "metadata": {
        "id": "h_BxPo9h-Lz0"
      },
      "execution_count": null,
      "outputs": []
    },
    {
      "cell_type": "code",
      "source": [],
      "metadata": {
        "id": "93LycBokAUuR"
      },
      "execution_count": null,
      "outputs": []
    },
    {
      "cell_type": "markdown",
      "source": [
        "# Compuing seasonal averages\n",
        "\n",
        "For each variable, compute the mean for each of summer and winter. I.e., long term mean (of all years) for the months December-January-February, and June July August."
      ],
      "metadata": {
        "id": "YVKilQApAs-a"
      }
    },
    {
      "cell_type": "code",
      "source": [
        "#\n",
        "# Your averaging code here\n",
        "#\n",
        "\n",
        "\n",
        "\n",
        "\n",
        "\n"
      ],
      "metadata": {
        "id": "1_K_3cDl9R8c"
      },
      "execution_count": null,
      "outputs": []
    },
    {
      "cell_type": "markdown",
      "source": [
        "# Making some plots!\n",
        "\n",
        "Plot the long term monthly mean of all terms in the energy balance for the season JJA and DJF.\n",
        "\n",
        "Develop a function that you can use to easily call multiplle times to make several of plots.\n",
        "\n"
      ],
      "metadata": {
        "id": "iQ3FRcg1AjNB"
      }
    },
    {
      "cell_type": "code",
      "source": [
        "my_data_to_plot = np.squeeze(data[0,:,:])\n",
        "# Check the sizes of arrays\n",
        "print('Sizes:',np.shape(lons),np.shape(lats),np.shape(my_data_to_plot))\n",
        "\n",
        "# Easiest plot like this!\n",
        "ax = plt.axes(projection=ccrs.PlateCarree())\n",
        "cf = plt.contourf(lons,lats,my_data_to_plot)\n",
        "\n",
        "\n",
        "\n",
        "#\n",
        "# Make life easier with a (nore detailed function that we can reuse!)\n",
        "# Example plotting code: a good starting place.\n",
        "#\n",
        "def my_plotting_function(lats,lons,data):\n",
        "\n",
        "    proj_grid = ccrs.PlateCarree(0)      # Map projection with 180 is the central longitude\n",
        "    proj_data = ccrs.PlateCarree(0)      # Data has \"longitude\", relative to 0 E.\n",
        "\n",
        "\n",
        "    fig = plt.figure(figsize=[12,8])                  # Create a figure\n",
        "\n",
        "    ax = plt.axes(projection=ccrs.PlateCarree())\n",
        "    #ax.set_extent(extent,proj_data)\n",
        "    ax.set_title(\"My title\")\n",
        "\n",
        "    # Shaded contours for temperature\n",
        "    levels = 10*np.arange(41)       # set values for contour fill\n",
        "    cf = plt.contourf(lons, lats, data, levels=levels, cmap='jet')\n",
        "    #cf = plt.contourf(lats, lons, np.squeeze(data[0,:,:]))\n",
        "    #cf = plt.contourf(np.squeeze(data[0,:,:]))\n",
        "\n",
        "    ## Add a color bar\n",
        "    plt.colorbar(cf)\n",
        "\n",
        "    # Overlay contour lines\n",
        "    levels = 20*np.arange(41)       # set values for contour fill\n",
        "    cl = plt.contour(lons, lats, data, levels=levels, colors='black')\n",
        "\n",
        "    # Add contour line liables\n",
        "    ax.clabel(cl, cl.levels, inline=True, fontsize=10)\n",
        "\n",
        "\n",
        "    # Add costlines\n",
        "    ax.coastlines(color='blue')\n",
        "\n",
        "    # Add grid lines\n",
        "    ax.gridlines(crs=proj_grid, linewidth=1, color='cyan',\n",
        "        draw_labels=True, alpha=0.5, linestyle='--')\n",
        "\n",
        "\n",
        "#\n",
        "# Use it\n",
        "#\n",
        "my_plotting_function(lats,lons,my_data_to_plot)\n",
        "\n"
      ],
      "metadata": {
        "id": "2keYAnGu-TY5"
      },
      "execution_count": null,
      "outputs": []
    },
    {
      "cell_type": "markdown",
      "source": [
        "Task: Make a plot of the net energy balance at the surface for each season"
      ],
      "metadata": {
        "id": "ew_BKDOIBjD4"
      }
    },
    {
      "cell_type": "code",
      "source": [],
      "metadata": {
        "id": "-h3nqsD9BWcY"
      },
      "execution_count": null,
      "outputs": []
    },
    {
      "cell_type": "markdown",
      "source": [],
      "metadata": {
        "id": "T6y4g9P5Bq1f"
      }
    },
    {
      "cell_type": "markdown",
      "source": [
        "#Seasonal variation#\n",
        "\n",
        "Describ the seasonal variation in surface energy balance. Include in your description how each of the terms differ from geographic locations and which dominate in various regions.\n",
        "\n",
        "\n",
        "## Subtropical oceans (South Pacific)\n",
        "\n",
        "\n",
        "## Northern continents\n",
        "\n",
        "\n",
        "## Southern Ocean\n",
        "\n",
        "\n",
        "## Antarctica\n",
        "\n"
      ],
      "metadata": {
        "id": "v8XGny0rBqQP"
      }
    },
    {
      "cell_type": "markdown",
      "source": [
        "##Time series analysis\n",
        "\n",
        "Construct a global average for each term in the surface energy balance for each month, create a time series plot showing how each term has changed.\n",
        "\n",
        "Make a time series plot showing how the net surface energy balance has evolved over the last few decades.\n",
        "\n",
        "\n",
        "(NOTE: you will need to take the latitude into account when performing an spatial average! Use a cosine of latitude as a weighting)\n"
      ],
      "metadata": {
        "id": "QAL6fHk8CCq3"
      }
    },
    {
      "cell_type": "code",
      "source": [
        "#\n",
        "# You code here\n",
        "#"
      ],
      "metadata": {
        "id": "9JWsXsTBBYLf"
      },
      "execution_count": null,
      "outputs": []
    },
    {
      "cell_type": "markdown",
      "source": [
        "*italicized text*"
      ],
      "metadata": {
        "id": "Nks6DoY3BX3J"
      }
    },
    {
      "cell_type": "markdown",
      "source": [
        "Describe the long term trend ans seasonal variability in the surface energy balance. How does it change, globally from summer to winter. Does it change over the length of data set.\n",
        "\n",
        "\n",
        "[your answer here]"
      ],
      "metadata": {
        "id": "D4sGFfp4BXjH"
      }
    }
  ]
}